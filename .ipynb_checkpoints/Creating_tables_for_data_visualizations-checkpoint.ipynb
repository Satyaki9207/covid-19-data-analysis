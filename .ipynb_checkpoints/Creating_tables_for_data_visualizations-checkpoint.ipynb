{
 "cells": [
  {
   "cell_type": "code",
   "execution_count": 1,
   "id": "4129443c",
   "metadata": {},
   "outputs": [],
   "source": [
    "import sqlite3\n",
    "import pandas as pd\n",
    "from helper_functions import table_info"
   ]
  },
  {
   "cell_type": "code",
   "execution_count": 2,
   "id": "bc6dda66",
   "metadata": {},
   "outputs": [],
   "source": [
    "conn=sqlite3.connect('covid_data.db')\n",
    "cur=conn.cursor()"
   ]
  },
  {
   "cell_type": "code",
   "execution_count": 5,
   "id": "41bc7545",
   "metadata": {},
   "outputs": [],
   "source": [
    "#table_info(conn,cur)"
   ]
  },
  {
   "cell_type": "code",
   "execution_count": 9,
   "id": "1fcddb64",
   "metadata": {},
   "outputs": [],
   "source": [
    "# table 1\n",
    "query='''Select SUM(new_cases) as total_cases, \n",
    "        SUM(new_deaths) as total_deaths, \n",
    "        SUM(new_deaths)/SUM(New_Cases)*100 as DeathPercentage\n",
    "        From covid_deaths\n",
    "        where continent is not null \n",
    "        order by 1,2'''\n",
    "\n",
    "pd.read_sql(query,conn).to_csv('table1.csv',index=False)"
   ]
  },
  {
   "cell_type": "code",
   "execution_count": 5,
   "id": "51fdf0c8",
   "metadata": {},
   "outputs": [],
   "source": [
    "# Table 2\n",
    "query='''Select location, SUM(new_deaths) as TotalDeathCount\n",
    "        From covid_deaths\n",
    "        Where continent is null \n",
    "        and location not in ('World', 'European Union', 'International')\n",
    "        and location not like '%income%'\n",
    "        Group by location\n",
    "        order by TotalDeathCount desc\n",
    "        '''\n",
    "pd.read_sql(query,conn).to_csv('table2.csv',index=False)"
   ]
  },
  {
   "cell_type": "code",
   "execution_count": 9,
   "id": "ef555b03",
   "metadata": {},
   "outputs": [],
   "source": [
    "# table 3\n",
    "query='''Select Location, Population, MAX(total_cases) as HighestInfectionCount,\n",
    "        Max((total_cases/population))*100 as PercentPopulationInfected\n",
    "        From covid_deaths\n",
    "        Group by Location, Population\n",
    "        order by PercentPopulationInfected desc'''\n",
    "pd.read_sql(query,conn).fillna(0).to_csv('table3.csv',index=False)"
   ]
  },
  {
   "cell_type": "code",
   "execution_count": 11,
   "id": "ca554d86",
   "metadata": {},
   "outputs": [],
   "source": [
    "query='''Select Location, Population,date, MAX(total_cases) as HighestInfectionCount,\n",
    "        Max((total_cases/population))*100 as PercentPopulationInfected\n",
    "        From covid_deaths\n",
    "        Group by Location, Population, date\n",
    "        order by PercentPopulationInfected desc'''\n",
    "pd.read_sql(query,conn).fillna(0).to_csv('table4.csv',index=False)"
   ]
  },
  {
   "cell_type": "code",
   "execution_count": null,
   "id": "d2a3db3a",
   "metadata": {},
   "outputs": [],
   "source": []
  },
  {
   "cell_type": "code",
   "execution_count": null,
   "id": "4f73e37c",
   "metadata": {},
   "outputs": [],
   "source": []
  }
 ],
 "metadata": {
  "hide_input": false,
  "kernelspec": {
   "display_name": "Python 3 (ipykernel)",
   "language": "python",
   "name": "python3"
  },
  "language_info": {
   "codemirror_mode": {
    "name": "ipython",
    "version": 3
   },
   "file_extension": ".py",
   "mimetype": "text/x-python",
   "name": "python",
   "nbconvert_exporter": "python",
   "pygments_lexer": "ipython3",
   "version": "3.8.8"
  }
 },
 "nbformat": 4,
 "nbformat_minor": 5
}
